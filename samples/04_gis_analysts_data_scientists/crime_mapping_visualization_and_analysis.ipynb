{
 "cells": [
  {
   "cell_type": "markdown",
   "metadata": {},
   "source": [
    "# Crime mapping, visualization and predictive analysis\n",
    "\n",
    "This notebook demonstrates techniques for analyzing data that can be used to more efficiently manage and distribute police resources, with a goal of decreasing crime. The workflow involves fetching and preparing big data for analysis and visualization using hotspots, geographic aggregation of data, enrichment using demographic variables and Support Vector Classification (SVC) using SciKit-learn. \n",
    "\n",
    "Crime is a complex interaction of many processes that this notebook doesn't fully account for. Machine learning algorithms are also susceptible to unintended biases that a comprehensive solution would require careful planning to avoid. This notebooks provides a simple demonstration of how GIS technology and machine learning can be used to identify crime prone areas and build predictive policing models using publicly accessible data. "
   ]
  },
  {
   "cell_type": "markdown",
   "metadata": {
    "heading_collapsed": true
   },
   "source": [
    "# Data Preparation"
   ]
  },
  {
   "cell_type": "markdown",
   "metadata": {
    "hidden": true
   },
   "source": [
    "The Hoston Police department shares historical crime statistics at http://www.houstontx.gov/police/cs/crime-stats-archives.htm that we'll be using for our analysis.\n",
    "<img src=\"../../static/img/hpd.png\" width=\"750\"/>"
   ]
  },
  {
   "cell_type": "markdown",
   "metadata": {
    "hidden": true
   },
   "source": [
    "## Fetch data"
   ]
  },
  {
   "cell_type": "code",
   "execution_count": 1,
   "metadata": {},
   "outputs": [],
   "source": [
    "import pandas as pd\n",
    "import calendar"
   ]
  },
  {
   "cell_type": "code",
   "execution_count": 20,
   "metadata": {
    "hidden": true,
    "scrolled": true
   },
   "outputs": [
    {
     "name": "stderr",
     "output_type": "stream",
     "text": [
      "/anaconda3/envs/geosaurus/lib/python3.7/site-packages/pandas/core/frame.py:6211: FutureWarning: Sorting because non-concatenation axis is not aligned. A future version\n",
      "of pandas will change to not sort by default.\n",
      "\n",
      "To accept the future behavior, pass 'sort=False'.\n",
      "\n",
      "To retain the current behavior and silence the warning, pass 'sort=True'.\n",
      "\n",
      "  sort=sort)\n"
     ]
    },
    {
     "name": "stdout",
     "output_type": "stream",
     "text": [
      "WARNING *** file size (2752234) not 512 + multiple of sector size (512)\n",
      "WARNING *** OLE2 inconsistency: SSCS size is 0 but SSAT size is non-zero\n"
     ]
    }
   ],
   "source": [
    "combined_df = pd.DataFrame()\n",
    "\n",
    "for year in range(10, 17):\n",
    "    for month in range(1, 13):\n",
    "        url = 'http://www.houstontx.gov/police/cs/xls/{0}{1}.xls'.format(\n",
    "            calendar.month_name[month].lower()[:3], year)\n",
    "        df = pd.read_excel(url)\n",
    "        combined_df = combined_df.append(df, ignore_index=True)"
   ]
  },
  {
   "cell_type": "code",
   "execution_count": 21,
   "metadata": {
    "code_folding": [],
    "hidden": true
   },
   "outputs": [],
   "source": [
    "# archive the data so we don't need to re-fetch it:\n",
    "combined_df.to_csv(r'./data/crime_df.csv', index=False)"
   ]
  },
  {
   "cell_type": "markdown",
   "metadata": {
    "hidden": true
   },
   "source": [
    "## Data cleanup"
   ]
  },
  {
   "cell_type": "code",
   "execution_count": 13,
   "metadata": {
    "hidden": true
   },
   "outputs": [],
   "source": [
    "crimes_df = pd.read_csv(r'./data/crime_df.csv', \n",
    "                        parse_dates=[7], low_memory=False)"
   ]
  },
  {
   "cell_type": "code",
   "execution_count": 14,
   "metadata": {},
   "outputs": [
    {
     "data": {
      "text/plain": [
       "(886604, 17)"
      ]
     },
     "execution_count": 14,
     "metadata": {},
     "output_type": "execute_result"
    }
   ],
   "source": [
    "crimes_df.shape"
   ]
  },
  {
   "cell_type": "code",
   "execution_count": 15,
   "metadata": {
    "hidden": true
   },
   "outputs": [
    {
     "data": {
      "text/html": [
       "<div>\n",
       "<style scoped>\n",
       "    .dataframe tbody tr th:only-of-type {\n",
       "        vertical-align: middle;\n",
       "    }\n",
       "\n",
       "    .dataframe tbody tr th {\n",
       "        vertical-align: top;\n",
       "    }\n",
       "\n",
       "    .dataframe thead th {\n",
       "        text-align: right;\n",
       "    }\n",
       "</style>\n",
       "<table border=\"1\" class=\"dataframe\">\n",
       "  <thead>\n",
       "    <tr style=\"text-align: right;\">\n",
       "      <th></th>\n",
       "      <th># Of</th>\n",
       "      <th># Of Offenses</th>\n",
       "      <th># Offenses</th>\n",
       "      <th># offenses</th>\n",
       "      <th>Beat</th>\n",
       "      <th>Block Range</th>\n",
       "      <th>BlockRange</th>\n",
       "      <th>Date</th>\n",
       "      <th>Field11</th>\n",
       "      <th>Hour</th>\n",
       "      <th>Offense Type</th>\n",
       "      <th>Premise</th>\n",
       "      <th>Street Name</th>\n",
       "      <th>StreetName</th>\n",
       "      <th>Suffix</th>\n",
       "      <th>Type</th>\n",
       "      <th>Unnamed: 1</th>\n",
       "    </tr>\n",
       "  </thead>\n",
       "  <tbody>\n",
       "    <tr>\n",
       "      <th>0</th>\n",
       "      <td>NaN</td>\n",
       "      <td>1.0</td>\n",
       "      <td>NaN</td>\n",
       "      <td>NaN</td>\n",
       "      <td>11H30</td>\n",
       "      <td>3000-3099</td>\n",
       "      <td>NaN</td>\n",
       "      <td>2010-01-08</td>\n",
       "      <td>NaN</td>\n",
       "      <td>22.0</td>\n",
       "      <td>Murder</td>\n",
       "      <td>20R</td>\n",
       "      <td>BROADWAY</td>\n",
       "      <td>NaN</td>\n",
       "      <td>-</td>\n",
       "      <td>ST</td>\n",
       "      <td>NaN</td>\n",
       "    </tr>\n",
       "    <tr>\n",
       "      <th>1</th>\n",
       "      <td>NaN</td>\n",
       "      <td>1.0</td>\n",
       "      <td>NaN</td>\n",
       "      <td>NaN</td>\n",
       "      <td>10H50</td>\n",
       "      <td>2800-2899</td>\n",
       "      <td>NaN</td>\n",
       "      <td>2010-01-17</td>\n",
       "      <td>NaN</td>\n",
       "      <td>18.0</td>\n",
       "      <td>Murder</td>\n",
       "      <td>18C</td>\n",
       "      <td>MCGOWEN</td>\n",
       "      <td>NaN</td>\n",
       "      <td>-</td>\n",
       "      <td>ST</td>\n",
       "      <td>NaN</td>\n",
       "    </tr>\n",
       "    <tr>\n",
       "      <th>2</th>\n",
       "      <td>NaN</td>\n",
       "      <td>1.0</td>\n",
       "      <td>NaN</td>\n",
       "      <td>NaN</td>\n",
       "      <td>15E30</td>\n",
       "      <td>9600-9699</td>\n",
       "      <td>NaN</td>\n",
       "      <td>2010-01-01</td>\n",
       "      <td>NaN</td>\n",
       "      <td>0.0</td>\n",
       "      <td>Murder</td>\n",
       "      <td>18A</td>\n",
       "      <td>MARLIVE</td>\n",
       "      <td>NaN</td>\n",
       "      <td>-</td>\n",
       "      <td>LN</td>\n",
       "      <td>NaN</td>\n",
       "    </tr>\n",
       "  </tbody>\n",
       "</table>\n",
       "</div>"
      ],
      "text/plain": [
       "   # Of  # Of Offenses  # Offenses  # offenses   Beat Block Range BlockRange  \\\n",
       "0   NaN            1.0         NaN         NaN  11H30   3000-3099        NaN   \n",
       "1   NaN            1.0         NaN         NaN  10H50   2800-2899        NaN   \n",
       "2   NaN            1.0         NaN         NaN  15E30   9600-9699        NaN   \n",
       "\n",
       "        Date  Field11  Hour Offense Type Premise Street Name StreetName  \\\n",
       "0 2010-01-08      NaN  22.0       Murder     20R    BROADWAY        NaN   \n",
       "1 2010-01-17      NaN  18.0       Murder     18C     MCGOWEN        NaN   \n",
       "2 2010-01-01      NaN   0.0       Murder     18A     MARLIVE        NaN   \n",
       "\n",
       "  Suffix Type  Unnamed: 1  \n",
       "0      -   ST         NaN  \n",
       "1      -   ST         NaN  \n",
       "2      -   LN         NaN  "
      ]
     },
     "execution_count": 15,
     "metadata": {},
     "output_type": "execute_result"
    }
   ],
   "source": [
    "crimes_df.head(3)"
   ]
  },
  {
   "cell_type": "code",
   "execution_count": 16,
   "metadata": {},
   "outputs": [
    {
     "data": {
      "text/plain": [
       "# Of             NaN\n",
       "# Of Offenses    NaN\n",
       "# Offenses       NaN\n",
       "# offenses       NaN\n",
       "Beat             NaN\n",
       "Block Range      NaN\n",
       "BlockRange       NaN\n",
       "Date             NaT\n",
       "Field11          NaN\n",
       "Hour             NaN\n",
       "Offense Type     NaN\n",
       "Premise          NaN\n",
       "Street Name      NaN\n",
       "StreetName       NaN\n",
       "Suffix           NaN\n",
       "Type             NaN\n",
       "Unnamed: 1       NaN\n",
       "Name: 103082, dtype: object"
      ]
     },
     "execution_count": 16,
     "metadata": {},
     "output_type": "execute_result"
    }
   ],
   "source": [
    "crimes_df.loc[103082]"
   ]
  },
  {
   "cell_type": "markdown",
   "metadata": {
    "hidden": true
   },
   "source": [
    "### Data wrangling"
   ]
  },
  {
   "cell_type": "code",
   "execution_count": 17,
   "metadata": {},
   "outputs": [],
   "source": [
    "crimes_df_nona1 = crimes_df.dropna(axis=0, how='all')"
   ]
  },
  {
   "cell_type": "code",
   "execution_count": 18,
   "metadata": {},
   "outputs": [
    {
     "data": {
      "text/plain": [
       "(886603, 17)"
      ]
     },
     "execution_count": 18,
     "metadata": {},
     "output_type": "execute_result"
    }
   ],
   "source": [
    "crimes_df_nona1.shape"
   ]
  },
  {
   "cell_type": "code",
   "execution_count": 19,
   "metadata": {},
   "outputs": [
    {
     "ename": "AttributeError",
     "evalue": "'DataFrame' object has no attribute 'HouseNo'",
     "output_type": "error",
     "traceback": [
      "\u001b[0;31m---------------------------------------------------------------------------\u001b[0m",
      "\u001b[0;31mAttributeError\u001b[0m                            Traceback (most recent call last)",
      "\u001b[0;32m<ipython-input-19-4c06b1ed3d64>\u001b[0m in \u001b[0;36m<module>\u001b[0;34m\u001b[0m\n\u001b[1;32m      2\u001b[0m                        \u001b[0mcrimes_df_nona1\u001b[0m\u001b[0;34m.\u001b[0m\u001b[0mSuffix\u001b[0m\u001b[0;34m.\u001b[0m\u001b[0mmap\u001b[0m\u001b[0;34m(\u001b[0m\u001b[0mstr\u001b[0m\u001b[0;34m)\u001b[0m \u001b[0;34m+\u001b[0m \u001b[0;34m' '\u001b[0m \u001b[0;34m+\u001b[0m\u001b[0;31m \u001b[0m\u001b[0;31m\\\u001b[0m\u001b[0;34m\u001b[0m\u001b[0;34m\u001b[0m\u001b[0m\n\u001b[1;32m      3\u001b[0m                        \u001b[0mcrimes_df_nona1\u001b[0m\u001b[0;34m.\u001b[0m\u001b[0mStreetName\u001b[0m\u001b[0;34m.\u001b[0m\u001b[0mmap\u001b[0m\u001b[0;34m(\u001b[0m\u001b[0mstr\u001b[0m\u001b[0;34m)\u001b[0m \u001b[0;34m+\u001b[0m \u001b[0;34m' '\u001b[0m \u001b[0;34m+\u001b[0m\u001b[0;31m \u001b[0m\u001b[0;31m\\\u001b[0m\u001b[0;34m\u001b[0m\u001b[0;34m\u001b[0m\u001b[0m\n\u001b[0;32m----> 4\u001b[0;31m                        \u001b[0mcrimes_df_nona1\u001b[0m\u001b[0;34m.\u001b[0m\u001b[0mType\u001b[0m\u001b[0;34m.\u001b[0m\u001b[0mmap\u001b[0m\u001b[0;34m(\u001b[0m\u001b[0mstr\u001b[0m\u001b[0;34m)\u001b[0m \u001b[0;34m+\u001b[0m \u001b[0;34m', Houston, TX'\u001b[0m\u001b[0;34m\u001b[0m\u001b[0;34m\u001b[0m\u001b[0m\n\u001b[0m\u001b[1;32m      5\u001b[0m \u001b[0;34m\u001b[0m\u001b[0m\n\u001b[1;32m      6\u001b[0m \u001b[0mcrimes_df_nona1\u001b[0m\u001b[0;34m.\u001b[0m\u001b[0mdropna\u001b[0m\u001b[0;34m(\u001b[0m\u001b[0maxis\u001b[0m\u001b[0;34m=\u001b[0m\u001b[0;36m0\u001b[0m\u001b[0;34m,\u001b[0m \u001b[0mhow\u001b[0m\u001b[0;34m=\u001b[0m\u001b[0;34m'Address'\u001b[0m\u001b[0;34m,\u001b[0m \u001b[0minplace\u001b[0m\u001b[0;34m=\u001b[0m\u001b[0;32mTrue\u001b[0m\u001b[0;34m)\u001b[0m\u001b[0;34m\u001b[0m\u001b[0;34m\u001b[0m\u001b[0m\n",
      "\u001b[0;32m/anaconda3/envs/geosaurus/lib/python3.7/site-packages/pandas/core/generic.py\u001b[0m in \u001b[0;36m__getattr__\u001b[0;34m(self, name)\u001b[0m\n\u001b[1;32m   4374\u001b[0m             \u001b[0;32mif\u001b[0m \u001b[0mself\u001b[0m\u001b[0;34m.\u001b[0m\u001b[0m_info_axis\u001b[0m\u001b[0;34m.\u001b[0m\u001b[0m_can_hold_identifiers_and_holds_name\u001b[0m\u001b[0;34m(\u001b[0m\u001b[0mname\u001b[0m\u001b[0;34m)\u001b[0m\u001b[0;34m:\u001b[0m\u001b[0;34m\u001b[0m\u001b[0;34m\u001b[0m\u001b[0m\n\u001b[1;32m   4375\u001b[0m                 \u001b[0;32mreturn\u001b[0m \u001b[0mself\u001b[0m\u001b[0;34m[\u001b[0m\u001b[0mname\u001b[0m\u001b[0;34m]\u001b[0m\u001b[0;34m\u001b[0m\u001b[0;34m\u001b[0m\u001b[0m\n\u001b[0;32m-> 4376\u001b[0;31m             \u001b[0;32mreturn\u001b[0m \u001b[0mobject\u001b[0m\u001b[0;34m.\u001b[0m\u001b[0m__getattribute__\u001b[0m\u001b[0;34m(\u001b[0m\u001b[0mself\u001b[0m\u001b[0;34m,\u001b[0m \u001b[0mname\u001b[0m\u001b[0;34m)\u001b[0m\u001b[0;34m\u001b[0m\u001b[0;34m\u001b[0m\u001b[0m\n\u001b[0m\u001b[1;32m   4377\u001b[0m \u001b[0;34m\u001b[0m\u001b[0m\n\u001b[1;32m   4378\u001b[0m     \u001b[0;32mdef\u001b[0m \u001b[0m__setattr__\u001b[0m\u001b[0;34m(\u001b[0m\u001b[0mself\u001b[0m\u001b[0;34m,\u001b[0m \u001b[0mname\u001b[0m\u001b[0;34m,\u001b[0m \u001b[0mvalue\u001b[0m\u001b[0;34m)\u001b[0m\u001b[0;34m:\u001b[0m\u001b[0;34m\u001b[0m\u001b[0;34m\u001b[0m\u001b[0m\n",
      "\u001b[0;31mAttributeError\u001b[0m: 'DataFrame' object has no attribute 'HouseNo'"
     ]
    }
   ],
   "source": [
    "crimes_df_nona1['Address'] = crimes_df_nona1.HouseNo.astype(int).map(str) + ' ' + \\\n",
    "                       crimes_df_nona1.Suffix.map(str) + ' ' + \\\n",
    "                       crimes_df_nona1.StreetName.map(str) + ' ' + \\\n",
    "                       crimes_df_nona1.Type.map(str) + ', Houston, TX'\n",
    "\n",
    "crimes_df_nona1.dropna(axis=0, how='Address', inplace=True)\n",
    "crimes_df_nona1.shape"
   ]
  },
  {
   "cell_type": "code",
   "execution_count": 20,
   "metadata": {
    "hidden": true
   },
   "outputs": [],
   "source": [
    "# drop empty rows and replace '-' with ''\n",
    "crimes_df.dropna(axis=0, how='all', inplace=True)\n",
    "crimes_df = crimes_df.replace('-', '')\n",
    "\n",
    "# offenses are spread across four columns with different name. Similar for BlockRange and StreetName. Combine the columns:\n",
    "crimes_df['Offenses'] = (crimes_df['# Of'].combine_first( \\\n",
    "                         crimes_df['# Of Offenses']).combine_first( \\\n",
    "                         crimes_df['# Offenses']).combine_first( \\\n",
    "                         crimes_df['# offenses'])).astype(int)\n",
    "\n",
    "crimes_df['BlockRange'] = crimes_df['BlockRange'].combine_first( \\\n",
    "                          crimes_df['Block Range'])\n",
    "\n",
    "crimes_df['StreetName'] = crimes_df['StreetName'].combine_first( \\\n",
    "                          crimes_df['Street Name'])\n",
    "\n",
    "# extract the approximate (mid) address from the block range \n",
    "# and construct an address column using it and the street suffix, name and type:\n",
    "houseno = crimes_df.BlockRange.str.extract('(?P<start_addr>\\d+)-(?P<end_addr>\\d+)', expand=False)\n",
    "crimes_df['HouseNo'] = (houseno.start_addr.astype(float) + houseno.end_addr.astype(float) + 1.0) / 2\n",
    "crimes_df['HouseNo'] = crimes_df['HouseNo'].fillna(50.0)\n",
    "\n",
    "crimes_df['Address'] = crimes_df.HouseNo.astype(int).map(str) + ' ' + \\\n",
    "                       crimes_df.Suffix.map(str) + ' ' + \\\n",
    "                       crimes_df.StreetName.map(str) + ' ' + \\\n",
    "                       crimes_df.Type.map(str) + ', Houston, TX'\n",
    "            \n",
    "# the hour column contains strings (with leading quotes), floats and int as well as empty strings. Convert them all to ints:\n",
    "crimes_df['Hour'] = crimes_df['Hour'].apply(lambda x : int(float(x.replace(\"'\", \"\"))) if type(x) == str else int(float(x)))\n",
    "\n",
    "# create a new column for Day of the week, useful for analysis:\n",
    "crimes_df['DayOfWeek'] = crimes_df.Date.dt.weekday_name\n",
    "\n",
    "# rename Offense Type to Category\n",
    "crimes_df = crimes_df.rename(columns={'Offense Type' : 'Category'})"
   ]
  },
  {
   "cell_type": "code",
   "execution_count": 21,
   "metadata": {},
   "outputs": [
    {
     "data": {
      "text/plain": [
       "(886603, 21)"
      ]
     },
     "execution_count": 21,
     "metadata": {},
     "output_type": "execute_result"
    }
   ],
   "source": [
    "crimes_df.shape"
   ]
  },
  {
   "cell_type": "code",
   "execution_count": 24,
   "metadata": {},
   "outputs": [
    {
     "data": {
      "text/plain": [
       "(886603, 21)"
      ]
     },
     "execution_count": 24,
     "metadata": {},
     "output_type": "execute_result"
    }
   ],
   "source": [
    "crimes_df.dropna(axis=0, subset=['Address']).shape"
   ]
  },
  {
   "cell_type": "code",
   "execution_count": 6,
   "metadata": {},
   "outputs": [],
   "source": [
    "crimes_df = crimes_df.reset_index(drop=True)"
   ]
  },
  {
   "cell_type": "code",
   "execution_count": 7,
   "metadata": {},
   "outputs": [
    {
     "data": {
      "text/plain": [
       "# Of                                     NaN\n",
       "# Of Offenses                              1\n",
       "# Offenses                               NaN\n",
       "# offenses                               NaN\n",
       "Beat                                   17E10\n",
       "Block Range                        7100-7199\n",
       "BlockRange                         7100-7199\n",
       "Date                     2010-10-18 00:00:00\n",
       "Field11                                  NaN\n",
       "Hour                                      21\n",
       "Category                              Murder\n",
       "Premise                                  05D\n",
       "Street Name                            ALDER\n",
       "StreetName                             ALDER\n",
       "Suffix                                      \n",
       "Type                                      DR\n",
       "Unnamed: 1                               NaN\n",
       "Offenses                                   1\n",
       "HouseNo                                 7150\n",
       "Address          7150  ALDER DR, Houston, TX\n",
       "DayOfWeek                             Monday\n",
       "Name: 103082, dtype: object"
      ]
     },
     "execution_count": 7,
     "metadata": {},
     "output_type": "execute_result"
    }
   ],
   "source": [
    "crimes_df.loc[103082]"
   ]
  },
  {
   "cell_type": "markdown",
   "metadata": {
    "hidden": true
   },
   "source": [
    "### Cleaned up data"
   ]
  },
  {
   "cell_type": "code",
   "execution_count": 8,
   "metadata": {
    "hidden": true
   },
   "outputs": [
    {
     "data": {
      "text/html": [
       "<div>\n",
       "<style scoped>\n",
       "    .dataframe tbody tr th:only-of-type {\n",
       "        vertical-align: middle;\n",
       "    }\n",
       "\n",
       "    .dataframe tbody tr th {\n",
       "        vertical-align: top;\n",
       "    }\n",
       "\n",
       "    .dataframe thead th {\n",
       "        text-align: right;\n",
       "    }\n",
       "</style>\n",
       "<table border=\"1\" class=\"dataframe\">\n",
       "  <thead>\n",
       "    <tr style=\"text-align: right;\">\n",
       "      <th></th>\n",
       "      <th>Date</th>\n",
       "      <th>Hour</th>\n",
       "      <th>DayOfWeek</th>\n",
       "      <th>Category</th>\n",
       "      <th>Offenses</th>\n",
       "      <th>Beat</th>\n",
       "      <th>Address</th>\n",
       "    </tr>\n",
       "  </thead>\n",
       "  <tbody>\n",
       "    <tr>\n",
       "      <th>0</th>\n",
       "      <td>2010-01-08</td>\n",
       "      <td>22</td>\n",
       "      <td>Friday</td>\n",
       "      <td>Murder</td>\n",
       "      <td>1</td>\n",
       "      <td>11H30</td>\n",
       "      <td>3050  BROADWAY ST, Houston, TX</td>\n",
       "    </tr>\n",
       "    <tr>\n",
       "      <th>1</th>\n",
       "      <td>2010-01-17</td>\n",
       "      <td>18</td>\n",
       "      <td>Sunday</td>\n",
       "      <td>Murder</td>\n",
       "      <td>1</td>\n",
       "      <td>10H50</td>\n",
       "      <td>2850  MCGOWEN ST, Houston, TX</td>\n",
       "    </tr>\n",
       "    <tr>\n",
       "      <th>2</th>\n",
       "      <td>2010-01-01</td>\n",
       "      <td>0</td>\n",
       "      <td>Friday</td>\n",
       "      <td>Murder</td>\n",
       "      <td>1</td>\n",
       "      <td>15E30</td>\n",
       "      <td>9650  MARLIVE LN, Houston, TX</td>\n",
       "    </tr>\n",
       "    <tr>\n",
       "      <th>3</th>\n",
       "      <td>2010-01-09</td>\n",
       "      <td>14</td>\n",
       "      <td>Saturday</td>\n",
       "      <td>Murder</td>\n",
       "      <td>1</td>\n",
       "      <td>5F20</td>\n",
       "      <td>9050  LONG POINT RD, Houston, TX</td>\n",
       "    </tr>\n",
       "    <tr>\n",
       "      <th>4</th>\n",
       "      <td>2010-01-18</td>\n",
       "      <td>14</td>\n",
       "      <td>Monday</td>\n",
       "      <td>Murder</td>\n",
       "      <td>1</td>\n",
       "      <td>10H40</td>\n",
       "      <td>4350  GARROTT ST, Houston, TX</td>\n",
       "    </tr>\n",
       "  </tbody>\n",
       "</table>\n",
       "</div>"
      ],
      "text/plain": [
       "        Date  Hour DayOfWeek Category  Offenses   Beat  \\\n",
       "0 2010-01-08    22    Friday   Murder         1  11H30   \n",
       "1 2010-01-17    18    Sunday   Murder         1  10H50   \n",
       "2 2010-01-01     0    Friday   Murder         1  15E30   \n",
       "3 2010-01-09    14  Saturday   Murder         1   5F20   \n",
       "4 2010-01-18    14    Monday   Murder         1  10H40   \n",
       "\n",
       "                            Address  \n",
       "0    3050  BROADWAY ST, Houston, TX  \n",
       "1     2850  MCGOWEN ST, Houston, TX  \n",
       "2     9650  MARLIVE LN, Houston, TX  \n",
       "3  9050  LONG POINT RD, Houston, TX  \n",
       "4     4350  GARROTT ST, Houston, TX  "
      ]
     },
     "execution_count": 8,
     "metadata": {},
     "output_type": "execute_result"
    }
   ],
   "source": [
    "analysis_df = crimes_df[['Date', 'Hour', 'DayOfWeek', 'Category', 'Offenses', 'Beat', 'Address']]\n",
    "analysis_df.head()"
   ]
  },
  {
   "cell_type": "code",
   "execution_count": 9,
   "metadata": {
    "hidden": true
   },
   "outputs": [],
   "source": [
    "houston_processed = r'./data/houston_processed.csv'\n",
    "analysis_df.to_csv(houston_processed, index_label='id')"
   ]
  },
  {
   "cell_type": "code",
   "execution_count": 10,
   "metadata": {},
   "outputs": [
    {
     "data": {
      "text/plain": [
       "(886603, 7)"
      ]
     },
     "execution_count": 10,
     "metadata": {},
     "output_type": "execute_result"
    }
   ],
   "source": [
    "analysis_df.shape"
   ]
  },
  {
   "cell_type": "markdown",
   "metadata": {
    "hidden": true
   },
   "source": [
    "## Convert to Spatial dataframe with geocoded addresses"
   ]
  },
  {
   "cell_type": "markdown",
   "metadata": {
    "hidden": true
   },
   "source": [
    "Spatial Dataframes let you work with spatial data as if it were a Pandas dataframe. It adds geospatial operations to Pandas as well as the ability to read and write shapefiles and file geodatabases.\n",
    "\n",
    "You can convert any Pandas dataframe with an address column to a SpatialDataFrame. Note that this operation geocodes all addresses within the dataframe and this will consume credits if your organization/portal is configured to use ArcGIS Online World Geocoder."
   ]
  },
  {
   "cell_type": "code",
   "execution_count": 11,
   "metadata": {
    "hidden": true
   },
   "outputs": [],
   "source": [
    "from arcgis.gis import GIS\n",
    "from arcgis.features import GeoAccessor, GeoSeriesAccessor\n",
    "\n",
    "# gis = GIS(profile=\"your_enterprise_profile\") \n",
    "# gis = GIS(\"https://datascienceqa.esri.com/portal\", \"portaladmin\", \"esri.agp\", verify_cert=False)\n",
    "gis = GIS(profile=\"your_online_profile\") "
   ]
  },
  {
   "cell_type": "code",
   "execution_count": 12,
   "metadata": {
    "hidden": true
   },
   "outputs": [
    {
     "name": "stderr",
     "output_type": "stream",
     "text": [
      "/Users/yong9856/Documents/GitHub/geosaurus/src/arcgis/features/geo/_accessor.py:1957: SettingWithCopyWarning: \n",
      "A value is trying to be set on a copy of a slice from a DataFrame.\n",
      "Try using .loc[row_indexer,col_indexer] = value instead\n",
      "\n",
      "See the caveats in the documentation: http://pandas.pydata.org/pandas-docs/stable/indexing.html#indexing-view-versus-copy\n",
      "  df['SHAPE'] = geoms\n",
      "/anaconda3/envs/geosaurus/lib/python3.7/site-packages/pandas/core/indexing.py:543: SettingWithCopyWarning: \n",
      "A value is trying to be set on a copy of a slice from a DataFrame.\n",
      "Try using .loc[row_indexer,col_indexer] = value instead\n",
      "\n",
      "See the caveats in the documentation: http://pandas.pydata.org/pandas-docs/stable/indexing.html#indexing-view-versus-copy\n",
      "  self.obj[item] = s\n",
      "/Users/yong9856/Documents/GitHub/geosaurus/src/arcgis/features/geo/_accessor.py:961: SettingWithCopyWarning: \n",
      "A value is trying to be set on a copy of a slice from a DataFrame.\n",
      "Try using .loc[row_indexer,col_indexer] = value instead\n",
      "\n",
      "See the caveats in the documentation: http://pandas.pydata.org/pandas-docs/stable/indexing.html#indexing-view-versus-copy\n",
      "  self._data[col] = GeoArray(self._data[col])\n"
     ]
    },
    {
     "data": {
      "text/html": [
       "<div>\n",
       "<style scoped>\n",
       "    .dataframe tbody tr th:only-of-type {\n",
       "        vertical-align: middle;\n",
       "    }\n",
       "\n",
       "    .dataframe tbody tr th {\n",
       "        vertical-align: top;\n",
       "    }\n",
       "\n",
       "    .dataframe thead th {\n",
       "        text-align: right;\n",
       "    }\n",
       "</style>\n",
       "<table border=\"1\" class=\"dataframe\">\n",
       "  <thead>\n",
       "    <tr style=\"text-align: right;\">\n",
       "      <th></th>\n",
       "      <th>Date</th>\n",
       "      <th>Hour</th>\n",
       "      <th>DayOfWeek</th>\n",
       "      <th>Category</th>\n",
       "      <th>Offenses</th>\n",
       "      <th>Beat</th>\n",
       "      <th>Address</th>\n",
       "      <th>SHAPE</th>\n",
       "    </tr>\n",
       "  </thead>\n",
       "  <tbody>\n",
       "    <tr>\n",
       "      <th>0</th>\n",
       "      <td>2010-01-08</td>\n",
       "      <td>22</td>\n",
       "      <td>Friday</td>\n",
       "      <td>Murder</td>\n",
       "      <td>1</td>\n",
       "      <td>11H30</td>\n",
       "      <td>3050  BROADWAY ST, Houston, TX</td>\n",
       "      <td>{\"x\": -95.27787570099997, \"y\": 29.696461096000...</td>\n",
       "    </tr>\n",
       "    <tr>\n",
       "      <th>1</th>\n",
       "      <td>2010-01-17</td>\n",
       "      <td>18</td>\n",
       "      <td>Sunday</td>\n",
       "      <td>Murder</td>\n",
       "      <td>1</td>\n",
       "      <td>10H50</td>\n",
       "      <td>2850  MCGOWEN ST, Houston, TX</td>\n",
       "      <td>{\"x\": -95.35841779399999, \"y\": 29.735879410000...</td>\n",
       "    </tr>\n",
       "    <tr>\n",
       "      <th>2</th>\n",
       "      <td>2010-01-01</td>\n",
       "      <td>0</td>\n",
       "      <td>Friday</td>\n",
       "      <td>Murder</td>\n",
       "      <td>1</td>\n",
       "      <td>15E30</td>\n",
       "      <td>9650  MARLIVE LN, Houston, TX</td>\n",
       "      <td>{\"x\": -95.43742728899997, \"y\": 29.678459999000...</td>\n",
       "    </tr>\n",
       "    <tr>\n",
       "      <th>3</th>\n",
       "      <td>2010-01-09</td>\n",
       "      <td>14</td>\n",
       "      <td>Saturday</td>\n",
       "      <td>Murder</td>\n",
       "      <td>1</td>\n",
       "      <td>5F20</td>\n",
       "      <td>9050  LONG POINT RD, Houston, TX</td>\n",
       "      <td>{\"x\": -95.51349431499995, \"y\": 29.800234248000...</td>\n",
       "    </tr>\n",
       "    <tr>\n",
       "      <th>4</th>\n",
       "      <td>2010-01-18</td>\n",
       "      <td>14</td>\n",
       "      <td>Monday</td>\n",
       "      <td>Murder</td>\n",
       "      <td>1</td>\n",
       "      <td>10H40</td>\n",
       "      <td>4350  GARROTT ST, Houston, TX</td>\n",
       "      <td>{\"x\": -95.38550667799996, \"y\": 29.733398564000...</td>\n",
       "    </tr>\n",
       "  </tbody>\n",
       "</table>\n",
       "</div>"
      ],
      "text/plain": [
       "        Date  Hour DayOfWeek Category  Offenses   Beat  \\\n",
       "0 2010-01-08    22    Friday   Murder         1  11H30   \n",
       "1 2010-01-17    18    Sunday   Murder         1  10H50   \n",
       "2 2010-01-01     0    Friday   Murder         1  15E30   \n",
       "3 2010-01-09    14  Saturday   Murder         1   5F20   \n",
       "4 2010-01-18    14    Monday   Murder         1  10H40   \n",
       "\n",
       "                            Address  \\\n",
       "0    3050  BROADWAY ST, Houston, TX   \n",
       "1     2850  MCGOWEN ST, Houston, TX   \n",
       "2     9650  MARLIVE LN, Houston, TX   \n",
       "3  9050  LONG POINT RD, Houston, TX   \n",
       "4     4350  GARROTT ST, Houston, TX   \n",
       "\n",
       "                                               SHAPE  \n",
       "0  {\"x\": -95.27787570099997, \"y\": 29.696461096000...  \n",
       "1  {\"x\": -95.35841779399999, \"y\": 29.735879410000...  \n",
       "2  {\"x\": -95.43742728899997, \"y\": 29.678459999000...  \n",
       "3  {\"x\": -95.51349431499995, \"y\": 29.800234248000...  \n",
       "4  {\"x\": -95.38550667799996, \"y\": 29.733398564000...  "
      ]
     },
     "execution_count": 12,
     "metadata": {},
     "output_type": "execute_result"
    }
   ],
   "source": [
    "# Note - uncomment the following line to geocode all addresses within the dataframe and create a SpatialDataFrame\n",
    "# This will consume credits if your organization/portal is configured to use ArcGIS Online World Geocoder.\n",
    "\n",
    "# spdf = SpatialDataFrame.from_df(houston_processed, 'Address')\n",
    "\n",
    "spdf = pd.DataFrame.spatial.from_df(analysis_df, 'Address')\n",
    "spdf.head()\n",
    "\n",
    "# spdf.sr = arcgis.geometry.SpatialReference(4326)\n",
    "# spdf.sr = SpatialReference({\"wkid\" : 4326})"
   ]
  },
  {
   "cell_type": "markdown",
   "metadata": {
    "hidden": true
   },
   "source": [
    "## Pandas Dataframe to shapefiles or file geodatabase"
   ]
  },
  {
   "cell_type": "code",
   "execution_count": null,
   "metadata": {
    "hidden": true
   },
   "outputs": [],
   "source": [
    "import os\n",
    "\n",
    "for year in range(2010, 2017):\n",
    "    start_date = str(year) + '-01-01'\n",
    "    end_date = str(year) + '-12-31'\n",
    "    \n",
    "    mask = (spdf['Date'] > start_date) & (spdf['Date'] <= end_date)\n",
    "    spdf_year = spdf.loc[mask]\n",
    "    \n",
    "    directory = r'./data/houstoncrime' + str(year) \n",
    "    if not os.path.exists(directory):\n",
    "        os.makedirs(directory)\n",
    "        \n",
    "    spdf_year.to_featureclass(out_location=directory,\n",
    "                              out_name='Houston' + str(year) + '.shp')"
   ]
  },
  {
   "cell_type": "code",
   "execution_count": null,
   "metadata": {
    "hidden": true,
    "scrolled": true
   },
   "outputs": [],
   "source": [
    "spdf.to_featureclass(out_location=r\"./data/houston.gdb\", out_name=\"crime\")"
   ]
  },
  {
   "cell_type": "markdown",
   "metadata": {
    "hidden": true
   },
   "source": [
    "## Connect the data to your GIS"
   ]
  },
  {
   "cell_type": "markdown",
   "metadata": {
    "hidden": true
   },
   "source": [
    "#### Publish as hosted feature layer"
   ]
  },
  {
   "cell_type": "code",
   "execution_count": null,
   "metadata": {
    "hidden": true
   },
   "outputs": [],
   "source": [
    "data = r'C:\\xc\\Presentations\\Demos\\Houston\\shp\\houston2016.zip' \n",
    "shpfile = gis.content.add({}, data)"
   ]
  },
  {
   "cell_type": "code",
   "execution_count": null,
   "metadata": {
    "hidden": true
   },
   "outputs": [],
   "source": [
    "crime2016 = shpfile.publish()"
   ]
  },
  {
   "cell_type": "code",
   "execution_count": null,
   "metadata": {
    "hidden": true
   },
   "outputs": [],
   "source": [
    "crime2016 = gis.content.search('houston2016', 'feature layer')[0]\n",
    "crime2016"
   ]
  },
  {
   "cell_type": "markdown",
   "metadata": {
    "hidden": true
   },
   "source": [
    "#### Attach to geoanalytics datastore as bigdata file share"
   ]
  },
  {
   "cell_type": "code",
   "execution_count": null,
   "metadata": {
    "hidden": true
   },
   "outputs": [],
   "source": [
    "datastores = arcgis.geoanalytics.get_datastores()"
   ]
  },
  {
   "cell_type": "code",
   "execution_count": null,
   "metadata": {
    "hidden": true
   },
   "outputs": [],
   "source": [
    "houston_bigdata = datastores.add_bigdata('Houston_crime', r'\\\\teton\\atma_shared\\datasets\\Houstonshp')"
   ]
  },
  {
   "cell_type": "code",
   "execution_count": null,
   "metadata": {
    "hidden": true
   },
   "outputs": [],
   "source": [
    "houston_yearly_bigdata = datastores.add_bigdata('Houston_crime_yearly', r'\\\\teton\\atma_shared\\datasets\\HoustonCrime')"
   ]
  },
  {
   "cell_type": "markdown",
   "metadata": {
    "hidden": true
   },
   "source": [
    "The datasets within the attached bigdata fileshare show up as Items and Layers and are available for analysis:"
   ]
  },
  {
   "cell_type": "code",
   "execution_count": null,
   "metadata": {
    "hidden": true
   },
   "outputs": [],
   "source": [
    "items = gis.content.search(\"houston\", \"big data file share\")\n",
    "for item in items:\n",
    "    display(item)"
   ]
  },
  {
   "cell_type": "code",
   "execution_count": null,
   "metadata": {
    "hidden": true
   },
   "outputs": [],
   "source": [
    "houston_crime = items[0]\n",
    "houston_yearly = items[1]"
   ]
  },
  {
   "cell_type": "code",
   "execution_count": null,
   "metadata": {
    "hidden": true
   },
   "outputs": [],
   "source": [
    "houston_yearly.layers"
   ]
  },
  {
   "cell_type": "markdown",
   "metadata": {
    "heading_collapsed": true
   },
   "source": [
    "# Mapping, Visualization and Analysis"
   ]
  },
  {
   "cell_type": "markdown",
   "metadata": {
    "hidden": true
   },
   "source": [
    "Visualize crime layer using the Map widget and Smart Mapping:"
   ]
  },
  {
   "cell_type": "code",
   "execution_count": null,
   "metadata": {
    "hidden": true
   },
   "outputs": [],
   "source": [
    "houston = arcgis.geocoding.geocode('Houston, TX')[0]"
   ]
  },
  {
   "cell_type": "code",
   "execution_count": null,
   "metadata": {
    "hidden": true
   },
   "outputs": [],
   "source": [
    "crime2016 = gis.content.search('houston2016', 'feature layer')[0]\n",
    "\n",
    "map1 = gis.map(houston, 12)\n",
    "map1.add_layer(crime2016)\n",
    "\n",
    "map2 = gis.map(houston, 12)\n",
    "map2.add_layer(crime2016, {\"renderer\":\"HeatmapRenderer\", \"opacity\":0.75})\n",
    "\n",
    "from ipywidgets import *\n",
    "\n",
    "map1.layout=Layout(flex='1 1', padding='10px')\n",
    "map2.layout=Layout(flex='1 1', padding='10px')\n",
    "\n",
    "crimebox = HBox([map1, map2])\n",
    "crimebox"
   ]
  },
  {
   "cell_type": "markdown",
   "metadata": {
    "hidden": true
   },
   "source": [
    "## Exploratory data analysis"
   ]
  },
  {
   "cell_type": "code",
   "execution_count": null,
   "metadata": {
    "hidden": true
   },
   "outputs": [],
   "source": [
    "from arcgis import SpatialDataFrame\n",
    "\n",
    "df = SpatialDataFrame.from_featureclass(filename = r\"C:\\xc\\Presentations\\Demos\\Houston\\houston.gdb\\crime\")"
   ]
  },
  {
   "cell_type": "code",
   "execution_count": null,
   "metadata": {
    "hidden": true
   },
   "outputs": [],
   "source": [
    "df.columns"
   ]
  },
  {
   "cell_type": "markdown",
   "metadata": {
    "hidden": true
   },
   "source": [
    "What are the most comon crimes?"
   ]
  },
  {
   "cell_type": "code",
   "execution_count": null,
   "metadata": {
    "hidden": true
   },
   "outputs": [],
   "source": [
    "# crimes by category\n",
    "\n",
    "%matplotlib inline\n",
    "import matplotlib.pyplot as plt\n",
    "\n",
    "groups = df.groupby(\"Category\")[\"Category\"].count()\n",
    "groups = groups.sort_values(ascending=False)\n",
    "plt.figure()\n",
    "groups.plot(kind='bar', title=\"Crimes by Category\")"
   ]
  },
  {
   "cell_type": "markdown",
   "metadata": {
    "hidden": true
   },
   "source": [
    "Does crime distribution change by the day of the week?"
   ]
  },
  {
   "cell_type": "code",
   "execution_count": null,
   "metadata": {
    "hidden": true,
    "scrolled": false
   },
   "outputs": [],
   "source": [
    "fig, axs = plt.subplots(1,2)\n",
    "\n",
    "weekdays = ['Monday', 'Tuesday', 'Wednesday', 'Thursday', 'Friday', 'Saturday', 'Sunday']\n",
    "\n",
    "df_murder = df[df.Category == \"Murder\"]\n",
    "gr_murder = df_murder.groupby(\"DayOfWeek\")[\"Offenses\"].sum()\n",
    "gr_murder = gr_murder[weekdays]\n",
    "\n",
    "df_burglary = df[df.Category == \"Burglary\"]\n",
    "gr_burglary = df_burglary.groupby(\"DayOfWeek\")[\"Offenses\"].sum()\n",
    "gr_burglary = gr_burglary[weekdays]\n",
    "\n",
    "gr_murder.plot(kind=\"bar\", title=\"Murder per weekday\", ax=axs[0])\n",
    "gr_burglary.plot(kind=\"bar\", title=\"Burglary per weekday\", ax=axs[1], figsize=(12, 5))"
   ]
  },
  {
   "cell_type": "markdown",
   "metadata": {
    "hidden": true
   },
   "source": [
    "Which crimes occur during which part of the day?"
   ]
  },
  {
   "cell_type": "code",
   "execution_count": null,
   "metadata": {
    "hidden": true
   },
   "outputs": [],
   "source": [
    "# thefts and burglaries by hour\n",
    "fig, axs = plt.subplots(1,2)\n",
    "hours = [x for x in range(24)]\n",
    "df_theft = df[df.Category == \"Murder\"]\n",
    "gr_theft = df_theft.groupby(\"Hour\")[\"Category\"].count()\n",
    "gr_theft = gr_theft[hours]\n",
    "\n",
    "df_burglary = df[df.Category == \"Burglary\"]\n",
    "gr_burglary = df_burglary.groupby(\"Hour\")[\"Category\"].count()\n",
    "gr_burglary = gr_burglary[hours]\n",
    "\n",
    "gr_theft.plot(kind=\"bar\", title=\"Murder per hour\", ax=axs[0])\n",
    "gr_burglary.plot(kind=\"bar\", title=\"Burglary per hour\", ax=axs[1], figsize=(20, 5))"
   ]
  },
  {
   "cell_type": "markdown",
   "metadata": {
    "hidden": true
   },
   "source": [
    "## Big data analytics"
   ]
  },
  {
   "cell_type": "markdown",
   "metadata": {
    "hidden": true
   },
   "source": [
    "GeoAnalytics provides a set of powerful tools for performing spatial analysis on big data. GeoAnalytics Tools are powered by your ArcGIS GeoAnalytics Server. ArcGIS GeoAnalytics Server distributes the analysis between multiple server nodes. By using distributed processing, you can process large datasets in less time."
   ]
  },
  {
   "cell_type": "markdown",
   "metadata": {
    "hidden": true
   },
   "source": [
    "### Find hot spots of crime"
   ]
  },
  {
   "cell_type": "markdown",
   "metadata": {
    "hidden": true
   },
   "source": [
    "The “Find Hot Spots” tool can be used to identify statistically significant clusters of crime.\n",
    "\n",
    "We can automate the creation of hotspots for all crime categories, across the years and create persisted information products in the form of web layers:"
   ]
  },
  {
   "cell_type": "code",
   "execution_count": null,
   "metadata": {
    "hidden": true
   },
   "outputs": [],
   "source": [
    "from arcgis.geoanalytics.analyze_patterns import find_hot_spots\n",
    "arcgis.env.process_spatial_reference=32611\n",
    "arcgis.env.verbose = False"
   ]
  },
  {
   "cell_type": "code",
   "execution_count": null,
   "metadata": {
    "hidden": true,
    "scrolled": true
   },
   "outputs": [],
   "source": [
    "for category in df.Category.unique()[:-1]:\n",
    "    lyrid = 0\n",
    "    for year in range(2010, 2017):\n",
    "        output_name='Houston_' + category.replace(' ', '_') + '_Hotspot_' + str(year)\n",
    "        print('Generating ' + output_name)\n",
    "        layer = houston_yearly.layers[lyrid]\n",
    "        layer.filter = \"Category='{}'\".format(category)\n",
    "        \n",
    "        find_hot_spots(layer, bin_size=0.5, bin_size_unit='Miles', \n",
    "                       neighborhood_distance=1, neighborhood_distance_unit='Miles', output_name=output_name)\n",
    "        \n",
    "        lyrid = lyrid + 1"
   ]
  },
  {
   "cell_type": "markdown",
   "metadata": {
    "hidden": true
   },
   "source": [
    "##### Compare Burglary hot spots with auto-theft hot spots"
   ]
  },
  {
   "cell_type": "code",
   "execution_count": null,
   "metadata": {
    "hidden": true
   },
   "outputs": [],
   "source": [
    "hotmap1 = gis.map(houston, 10)\n",
    "hotmap1.add_layer(gis.content.search('Houston_Burglary_Hotspot_2016')[0])\n",
    "hotmap2 = gis.map(houston, 10)\n",
    "hotmap2.add_layer(gis.content.search('Houston_Auto_Theft_Hotspot_2016')[0])\n",
    "\n",
    "hotmap1.layout=Layout(flex='1 1', padding='3px')\n",
    "hotmap2.layout=Layout(flex='1 1', padding='3px')\n",
    "\n",
    "items_layout = Layout(flex='1 1 auto', width='auto')\n",
    "\n",
    "display(HBox([hotmap1, hotmap2]))\n",
    "display(HBox(children=[Button(description='Burglary hot spots in 2016', layout=items_layout, button_style='danger'),\n",
    "                       Button(description='Auto theft hot spots in 2016', layout=items_layout, button_style='danger')],\n",
    "             layout=Layout(width='100%')))"
   ]
  },
  {
   "cell_type": "markdown",
   "metadata": {
    "hidden": true
   },
   "source": [
    "##### Compare hot spots over time"
   ]
  },
  {
   "cell_type": "code",
   "execution_count": null,
   "metadata": {
    "hidden": true
   },
   "outputs": [],
   "source": [
    "maps = []\n",
    "labels = []\n",
    "items_layout = Layout(flex='1 1 auto', width='auto')\n",
    "for year in range(2014, 2017):\n",
    "    layer = gis.content.search('Houston_Auto_Theft_Hotspot_'+str(year))[0]\n",
    "    hotspotmap = gis.map(houston)\n",
    "    hotspotmap.add_layer(layer)\n",
    "    hotspotmap.layout=Layout(flex='1 1', padding='3px')\n",
    "    maps.append(hotspotmap)\n",
    "    hotspotmap.basemap='gray'\n",
    "    labels.append(Button(description='Auto theft hot spots in ' + str(year), layout=items_layout, button_style='danger'))\n",
    "    \n",
    "layout=Layout(height='300px')\n",
    "display(HBox([maps[0], maps[1], maps[2]], layout=layout))\n",
    "display(HBox(children=labels, layout=Layout(width='100%')))"
   ]
  },
  {
   "cell_type": "markdown",
   "metadata": {
    "hidden": true
   },
   "source": [
    "The hot spots in each category are strikingly similar across years. The hot spots of yesterday are the hotspots of tomorrow, and this information can be used to deploy officers and to identify areas in need of intervention."
   ]
  },
  {
   "cell_type": "markdown",
   "metadata": {
    "hidden": true
   },
   "source": [
    "## Aggregate crimes into police beats"
   ]
  },
  {
   "cell_type": "code",
   "execution_count": null,
   "metadata": {
    "hidden": true
   },
   "outputs": [],
   "source": [
    "items = gis.content.search('Houston Police Beats', 'feature layer')\n",
    "for item in items:\n",
    "    display(item)"
   ]
  },
  {
   "cell_type": "code",
   "execution_count": null,
   "metadata": {
    "hidden": true
   },
   "outputs": [],
   "source": [
    "police_beats = items[0]"
   ]
  },
  {
   "cell_type": "code",
   "execution_count": null,
   "metadata": {
    "hidden": true
   },
   "outputs": [],
   "source": [
    "from arcgis.geoanalytics.summarize_data import aggregate_points\n",
    "arcgis.env.verbose = True\n",
    "\n",
    "aggregate_points(houston_crime.layers[0]._lyr_dict, \n",
    "                 polygon_layer=police_beats, output_name='Houston Aggregated Crimes')"
   ]
  },
  {
   "cell_type": "code",
   "execution_count": null,
   "metadata": {
    "hidden": true
   },
   "outputs": [],
   "source": [
    "aggr_lyr = gis.content.search('Houston Aggregated Crimes')[0]\n",
    "aggr_lyr"
   ]
  },
  {
   "cell_type": "markdown",
   "metadata": {
    "hidden": true
   },
   "source": [
    "### Visualize crime aggregated by police beat"
   ]
  },
  {
   "cell_type": "code",
   "execution_count": null,
   "metadata": {
    "hidden": true
   },
   "outputs": [],
   "source": [
    "beats_map = gis.map(houston, 11)\n",
    "beats_map"
   ]
  },
  {
   "cell_type": "code",
   "execution_count": null,
   "metadata": {
    "hidden": true
   },
   "outputs": [],
   "source": [
    "beats_map.basemap = 'gray'"
   ]
  },
  {
   "cell_type": "code",
   "execution_count": null,
   "metadata": {
    "hidden": true
   },
   "outputs": [],
   "source": [
    "beats_map.add_layer(aggr_lyr, {\n",
    "                        \"renderer\":\"ClassedColorRenderer\",\n",
    "                        \"field_name\":\"SUM_Offenses\", \n",
    "                        \"classificationMethod\":'natural-breaks',\n",
    "                        \"numClasses\":10,\n",
    "                        \"opacity\":0.75\n",
    "                      })"
   ]
  },
  {
   "cell_type": "markdown",
   "metadata": {
    "hidden": true
   },
   "source": [
    "### Visualize aggregation results using plots"
   ]
  },
  {
   "cell_type": "code",
   "execution_count": null,
   "metadata": {
    "hidden": true
   },
   "outputs": [],
   "source": [
    "aggr_df = aggr_lyr.layers[0].query().sdf"
   ]
  },
  {
   "cell_type": "code",
   "execution_count": null,
   "metadata": {
    "hidden": true
   },
   "outputs": [],
   "source": [
    "aggr_df = aggr_df[['beats_0', 'SUM_Offenses']]\n",
    "aggr_df.set_index('beats_0', inplace=True)\n",
    "aggr_df.sort_values('SUM_Offenses', ascending=False).head(6)"
   ]
  },
  {
   "cell_type": "code",
   "execution_count": null,
   "metadata": {
    "hidden": true
   },
   "outputs": [],
   "source": [
    "%matplotlib inline\n",
    "aggr_df.sort_values('SUM_Offenses', ascending=False).head(30).plot(kind='bar')"
   ]
  },
  {
   "cell_type": "code",
   "execution_count": null,
   "metadata": {
    "hidden": true
   },
   "outputs": [],
   "source": [
    "%matplotlib inline\n",
    "aggr_df['SUM_Offenses'].hist()"
   ]
  },
  {
   "cell_type": "markdown",
   "metadata": {},
   "source": [
    "# Predictive analysis using Machine Learning"
   ]
  },
  {
   "cell_type": "markdown",
   "metadata": {
    "heading_collapsed": true
   },
   "source": [
    "### Feature engineering using data enrichment"
   ]
  },
  {
   "cell_type": "code",
   "execution_count": null,
   "metadata": {
    "hidden": true
   },
   "outputs": [],
   "source": [
    "from arcgis.features import enrich_data"
   ]
  },
  {
   "cell_type": "code",
   "execution_count": null,
   "metadata": {
    "hidden": true
   },
   "outputs": [],
   "source": [
    "enriched_houston = enrich_data.enrich_layer(police_beats, data_collections = [\"KeyUSFacts\"], \n",
    "                                            analysis_variables=[\"AtRisk.AVGHINC_CY\",\"KeyUSFacts.DIVINDX_CY\"])"
   ]
  },
  {
   "cell_type": "code",
   "execution_count": null,
   "metadata": {
    "hidden": true
   },
   "outputs": [],
   "source": [
    "analysis_variables = [\n",
    "    'TOTPOP_CY',  # 2016 Population: Total Population (Esri)\n",
    "    'HHPOP_CY',   # 2016 Household Population (Esri)\n",
    "    'FAMPOP_CY',  # 2016 Family Population (Esri)\n",
    "    'DIVINDX_CY', # 2016 Diversity Index (Esri)\n",
    "    'TOTHH_CY',   # 2016 Total Households (Esri)\n",
    "    'AVGHHSZ_CY', # 2016 Average Household Size (Esri)\n",
    "\n",
    "    'MALES_CY',   # 2016 Gender: Male Population (Esri)\n",
    "    'FEMALES_CY', # 2016 Gender: Female Population (Esri)\n",
    "    \n",
    "    'MEDAGE_CY',  # 2016 Age: Median Age (Esri)\n",
    "    \n",
    "    'AVGFMSZ_CY', # 2016 Income: Average Family Size (Esri)\n",
    "    'MEDHINC_CY', # 2016 Income: Median Household Income (Esri)\n",
    "    'AVGHINC_CY', # 2016 Income: Average Household Income (Esri)\n",
    "        \n",
    "    'EDUCBASECY', # 2016 Educational Attainment Base (Esri)\n",
    "    'NOHS_CY',    # 2016 Education: Less than 9th Grade (Esri)\n",
    "    'SOMEHS_CY',  # 2016 Education: 9-12th Grade/No Diploma (Esri)\n",
    "    'HSGRAD_CY',  # 2016 Education: High School Diploma (Esri)\n",
    "    'GED_CY',     # 2016 Education: GED/Alternative Credential (Esri)\n",
    "    'SMCOLL_CY',  # 2016 Education: Some College/No Degree (Esri)\n",
    "    'ASSCDEG_CY', # 2016 Education: Associate's Degree (Esri)\n",
    "    'BACHDEG_CY', # 2016 Education: Bachelor's Degree (Esri)\n",
    "]"
   ]
  },
  {
   "cell_type": "code",
   "execution_count": null,
   "metadata": {
    "hidden": true
   },
   "outputs": [],
   "source": [
    "enriched_crime = enrich_data.enrich_layer(police_beats,\n",
    "                                          analysis_variables=analysis_variables)"
   ]
  },
  {
   "cell_type": "code",
   "execution_count": null,
   "metadata": {
    "hidden": true
   },
   "outputs": [],
   "source": [
    "enriched_df = enriched_crime.query().sdf\n",
    "enriched_df.head()"
   ]
  },
  {
   "cell_type": "code",
   "execution_count": null,
   "metadata": {
    "hidden": true
   },
   "outputs": [],
   "source": [
    "enriched_df.columns"
   ]
  },
  {
   "cell_type": "code",
   "execution_count": null,
   "metadata": {
    "hidden": true
   },
   "outputs": [],
   "source": [
    "edf = enriched_df[['beats_0'] + analysis_variables]"
   ]
  },
  {
   "cell_type": "markdown",
   "metadata": {
    "heading_collapsed": true
   },
   "source": [
    "### Merge with original crime dataframe"
   ]
  },
  {
   "cell_type": "code",
   "execution_count": null,
   "metadata": {
    "hidden": true
   },
   "outputs": [],
   "source": [
    "merged_df = df.merge(edf, left_on='Beat', right_on='beats_0')\n",
    "merged_df.columns"
   ]
  },
  {
   "cell_type": "markdown",
   "metadata": {
    "heading_collapsed": true
   },
   "source": [
    "### Apply machine learning using Scikit-learn"
   ]
  },
  {
   "cell_type": "code",
   "execution_count": null,
   "metadata": {
    "hidden": true
   },
   "outputs": [],
   "source": [
    "import pandas as pd\n",
    "from sklearn.model_selection import train_test_split\n",
    "from sklearn import preprocessing\n",
    "from sklearn.metrics import log_loss\n",
    "from sklearn.naive_bayes import BernoulliNB\n",
    "from sklearn.linear_model import LogisticRegression\n",
    "import numpy as np"
   ]
  },
  {
   "cell_type": "code",
   "execution_count": null,
   "metadata": {
    "hidden": true
   },
   "outputs": [],
   "source": [
    "df = merged_df\n",
    "df.Category.unique()"
   ]
  },
  {
   "cell_type": "code",
   "execution_count": null,
   "metadata": {
    "hidden": true
   },
   "outputs": [],
   "source": [
    "df = df[df.Category != '1']\n",
    "df = df[df.DayOfWeek != '']\n",
    "\n",
    "offence_encoder = preprocessing.LabelEncoder()\n",
    "offences = offence_encoder.fit_transform(df['Category'])\n",
    "\n",
    "hour = pd.get_dummies(df.Hour, prefix=\"hour\")\n",
    "day = pd.get_dummies(df.DayOfWeek, prefix=\"day\")\n",
    "beats = pd.get_dummies(df.Beat, prefix=\"beats\")"
   ]
  },
  {
   "cell_type": "code",
   "execution_count": null,
   "metadata": {
    "hidden": true
   },
   "outputs": [],
   "source": [
    "offence_encoder = preprocessing.LabelEncoder()\n",
    "offences = offence_encoder.fit_transform(df['Category'])"
   ]
  },
  {
   "cell_type": "code",
   "execution_count": null,
   "metadata": {
    "hidden": true
   },
   "outputs": [],
   "source": [
    "data = pd.concat([hour, day, beats], axis=1)"
   ]
  },
  {
   "cell_type": "code",
   "execution_count": null,
   "metadata": {
    "hidden": true
   },
   "outputs": [],
   "source": [
    "data['Violent'] = df['Category'].apply(lambda x : 1 if x in ['Murder', 'Rape', 'Aggravated Assault'] else 0)"
   ]
  },
  {
   "cell_type": "markdown",
   "metadata": {
    "heading_collapsed": true
   },
   "source": [
    "### Test SVC classifier on subset of data"
   ]
  },
  {
   "cell_type": "code",
   "execution_count": null,
   "metadata": {
    "hidden": true
   },
   "outputs": [],
   "source": [
    "data = data[:1000]"
   ]
  },
  {
   "cell_type": "code",
   "execution_count": null,
   "metadata": {
    "hidden": true
   },
   "outputs": [],
   "source": [
    "training, validation = train_test_split(data, train_size=.75)"
   ]
  },
  {
   "cell_type": "code",
   "execution_count": null,
   "metadata": {
    "hidden": true
   },
   "outputs": [],
   "source": [
    "features = list(training.columns)[:-1]"
   ]
  },
  {
   "cell_type": "code",
   "execution_count": null,
   "metadata": {
    "hidden": true
   },
   "outputs": [],
   "source": [
    "from sklearn.svm import SVC\n",
    "\n",
    "svc = SVC()\n",
    "svc.fit(training[features], training.Violent)"
   ]
  },
  {
   "cell_type": "code",
   "execution_count": null,
   "metadata": {
    "hidden": true
   },
   "outputs": [],
   "source": [
    "svc.score(training[features], training.Violent)"
   ]
  },
  {
   "cell_type": "code",
   "execution_count": null,
   "metadata": {
    "hidden": true
   },
   "outputs": [],
   "source": [
    "svc.score(validation[features], validation.Violent)"
   ]
  },
  {
   "cell_type": "markdown",
   "metadata": {
    "heading_collapsed": true,
    "hidden": true
   },
   "source": [
    "### Run model using entire data"
   ]
  },
  {
   "cell_type": "code",
   "execution_count": null,
   "metadata": {
    "hidden": true
   },
   "outputs": [],
   "source": [
    "data = pd.concat([hour, day, beats], axis=1)\n",
    "data['Violent'] = df['Category'].apply(lambda x : 1 if x in ['Murder', 'Rape', 'Aggravated Assault'] else 0)"
   ]
  },
  {
   "cell_type": "code",
   "execution_count": null,
   "metadata": {
    "hidden": true
   },
   "outputs": [],
   "source": [
    "training, validation = train_test_split(data, train_size=.75)"
   ]
  },
  {
   "cell_type": "code",
   "execution_count": null,
   "metadata": {
    "hidden": true
   },
   "outputs": [],
   "source": [
    "features = list(training.columns)[:-1]"
   ]
  },
  {
   "cell_type": "code",
   "execution_count": null,
   "metadata": {
    "hidden": true
   },
   "outputs": [],
   "source": [
    "from sklearn.svm import SVC\n",
    "\n",
    "svc = SVC()\n",
    "svc.fit(training[features], training.Violent)"
   ]
  },
  {
   "cell_type": "markdown",
   "metadata": {},
   "source": [
    "### Check accuracy of SVC classifier"
   ]
  },
  {
   "cell_type": "code",
   "execution_count": null,
   "metadata": {},
   "outputs": [],
   "source": [
    "svc.score(training[features], training.Violent)"
   ]
  },
  {
   "cell_type": "code",
   "execution_count": null,
   "metadata": {},
   "outputs": [],
   "source": [
    "svc.score(validation[features], validation.Violent)"
   ]
  }
 ],
 "metadata": {
  "anaconda-cloud": {},
  "kernelspec": {
   "display_name": "Python 3",
   "language": "python",
   "name": "python3"
  },
  "language_info": {
   "codemirror_mode": {
    "name": "ipython",
    "version": 3
   },
   "file_extension": ".py",
   "mimetype": "text/x-python",
   "name": "python",
   "nbconvert_exporter": "python",
   "pygments_lexer": "ipython3",
   "version": "3.7.2"
  }
 },
 "nbformat": 4,
 "nbformat_minor": 1
}
