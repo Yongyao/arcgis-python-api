{
 "cells": [
  {
   "cell_type": "markdown",
   "metadata": {},
   "source": [
    "# Chennai Floods 2015 -  a geographic analysis\n",
    "\n",
    "On December 1–2, 2015, the Indian city of Chennai received more rainfall in 24 hours than it had seen on any day since 1901. The deluge followed a month of persistent monsoon rains that were already well above normal for the Indian state of Tamil Nadu. At least 250 people had died, several hundred had been critically injured, and thousands had been affected or displaced by the flooding that has ensued."
   ]
  },
  {
   "cell_type": "markdown",
   "metadata": {},
   "source": [
    "To get started with our analysis, we connect to our GIS and bring in a map of the affected region. The map is a live widget that is internally using the ArcGIS JavaScript API that powers [ArcGIS.com](http://www.arcgis.com)."
   ]
  },
  {
   "cell_type": "code",
   "execution_count": 11,
   "metadata": {},
   "outputs": [],
   "source": [
    "import arcgis\n",
    "from arcgis.gis import GIS\n",
    "from IPython.display import display"
   ]
  },
  {
   "cell_type": "code",
   "execution_count": 12,
   "metadata": {},
   "outputs": [],
   "source": [
    "# geocoding works with ArcGIS online but not python playground or datascience-arcpy\n",
    "# gis = GIS(\"https://www.arcgis.com\", \"arcgis_python\", \"P@ssword123\")\n",
    "gis = GIS(\"https://datascience-arcpy.esri.com/arcgis\", username, pwd, verify_cert=False) "
   ]
  },
  {
   "cell_type": "code",
   "execution_count": 13,
   "metadata": {},
   "outputs": [
    {
     "data": {
      "application/vnd.jupyter.widget-view+json": {
       "model_id": "4e989818230a41c6a01ed73d9c1c3682",
       "version_major": 2,
       "version_minor": 0
      },
      "text/plain": [
       "MapView(layout=Layout(height='400px', width='100%'), zoom=8.0)"
      ]
     },
     "metadata": {},
     "output_type": "display_data"
    },
    {
     "data": {
      "text/html": [
       "<div class=\"map-static-img-preview-374d12d4-e65e-4760-a6cf-860e7fa93d6d\"><img src=\"\"></img></div>"
      ],
      "text/plain": [
       "<IPython.core.display.HTML object>"
      ]
     },
     "metadata": {},
     "output_type": "display_data"
    }
   ],
   "source": [
    "map = gis.map(\"Chennai\", zoomlevel = 8)\n",
    "map"
   ]
  },
  {
   "cell_type": "markdown",
   "metadata": {},
   "source": [
    "We can search for content in our GIS and add layers to our map that can be used for visualization or analysis:"
   ]
  },
  {
   "cell_type": "code",
   "execution_count": 14,
   "metadata": {
    "scrolled": true
   },
   "outputs": [
    {
     "data": {
      "text/html": [
       "<div class=\"item_container\" style=\"height: auto; overflow: hidden; border: 1px solid #cfcfcf; border-radius: 2px; background: #f6fafa; line-height: 1.21429em; padding: 10px;\">\n",
       "                    <div class=\"item_left\" style=\"width: 210px; float: left;\">\n",
       "                       <a href='https://datascience-arcpy.esri.com/arcgis/home/item.html?id=916dc2e2bcac4fef96af17b5d1319f40' target='_blank'>\n",
       "                        <img src='data:image/png;base64,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' width='200' height='133' class=\"itemThumbnail\">\n",
       "                       </a>\n",
       "                    </div>\n",
       "\n",
       "                    <div class=\"item_right\"     style=\"float: none; width: auto; overflow: hidden;\">\n",
       "                        <a href='https://datascience-arcpy.esri.com/arcgis/home/item.html?id=916dc2e2bcac4fef96af17b5d1319f40' target='_blank'><b>Chennai Solid Waste Management</b>\n",
       "                        </a>\n",
       "                        <br/>Solid waste management<img src='https://datascience-arcpy.esri.com/arcgis/home/js/jsapi/esri/css/images/item_type_icons/featureshosted16.png' style=\"vertical-align:middle;\">Feature Layer Collection by amani001\n",
       "                        <br/>Last Modified: December 05, 2018\n",
       "                        <br/>0 comments, 2 views\n",
       "                    </div>\n",
       "                </div>\n",
       "                "
      ],
      "text/plain": [
       "<Item title:\"Chennai Solid Waste Management\" type:Feature Layer Collection owner:amani001>"
      ]
     },
     "execution_count": 14,
     "metadata": {},
     "output_type": "execute_result"
    }
   ],
   "source": [
    "chennaipop = gis.content.search(\"Solid Waste Management\", item_type=\"feature service\", outside_org=True)[0]\n",
    "chennaipop"
   ]
  },
  {
   "cell_type": "code",
   "execution_count": 15,
   "metadata": {},
   "outputs": [],
   "source": [
    "map.add_layer(chennaipop)"
   ]
  },
  {
   "cell_type": "markdown",
   "metadata": {},
   "source": [
    "To get a sense of how much it rained and where, let's use rainfall data for December 2nd 2015, obtained from the Regional Meteorological Center in Chennai. The data is in chennai-rainfall.csv file, that we load into a Pandas data frame, and list its contents:"
   ]
  },
  {
   "cell_type": "code",
   "execution_count": 16,
   "metadata": {},
   "outputs": [
    {
     "data": {
      "text/html": [
       "<div>\n",
       "<style scoped>\n",
       "    .dataframe tbody tr th:only-of-type {\n",
       "        vertical-align: middle;\n",
       "    }\n",
       "\n",
       "    .dataframe tbody tr th {\n",
       "        vertical-align: top;\n",
       "    }\n",
       "\n",
       "    .dataframe thead th {\n",
       "        text-align: right;\n",
       "    }\n",
       "</style>\n",
       "<table border=\"1\" class=\"dataframe\">\n",
       "  <thead>\n",
       "    <tr style=\"text-align: right;\">\n",
       "      <th></th>\n",
       "      <th>WEATHER STATION</th>\n",
       "      <th>LOCATION</th>\n",
       "      <th>RAINFALL</th>\n",
       "    </tr>\n",
       "  </thead>\n",
       "  <tbody>\n",
       "    <tr>\n",
       "      <th>0</th>\n",
       "      <td>TAMBARAM</td>\n",
       "      <td>TAMBARAM, TAMIL NADU</td>\n",
       "      <td>49</td>\n",
       "    </tr>\n",
       "    <tr>\n",
       "      <th>1</th>\n",
       "      <td>CHEMBARABAKKAM</td>\n",
       "      <td>CHEMBARABAKKAM, TAMIL NADU</td>\n",
       "      <td>47</td>\n",
       "    </tr>\n",
       "    <tr>\n",
       "      <th>2</th>\n",
       "      <td>MARAKKANAM</td>\n",
       "      <td>MARAKKANAM, TAMIL NADU</td>\n",
       "      <td>42</td>\n",
       "    </tr>\n",
       "    <tr>\n",
       "      <th>3</th>\n",
       "      <td>CHENGALPATTU</td>\n",
       "      <td>CHENGALPATTU, TAMIL NADU</td>\n",
       "      <td>39</td>\n",
       "    </tr>\n",
       "    <tr>\n",
       "      <th>4</th>\n",
       "      <td>PONNERI</td>\n",
       "      <td>PONNERI, TAMIL NADU</td>\n",
       "      <td>39</td>\n",
       "    </tr>\n",
       "  </tbody>\n",
       "</table>\n",
       "</div>"
      ],
      "text/plain": [
       "  WEATHER STATION                    LOCATION  RAINFALL\n",
       "0        TAMBARAM        TAMBARAM, TAMIL NADU        49\n",
       "1  CHEMBARABAKKAM  CHEMBARABAKKAM, TAMIL NADU        47\n",
       "2      MARAKKANAM      MARAKKANAM, TAMIL NADU        42\n",
       "3    CHENGALPATTU    CHENGALPATTU, TAMIL NADU        39\n",
       "4         PONNERI         PONNERI, TAMIL NADU        39"
      ]
     },
     "execution_count": 16,
     "metadata": {},
     "output_type": "execute_result"
    }
   ],
   "source": [
    "import pandas as pd\n",
    "df = pd.read_csv('data/chennai-rainfall.csv')\n",
    "df.head()"
   ]
  },
  {
   "cell_type": "markdown",
   "metadata": {},
   "source": [
    "Tabular data is hard to visualize, so let's bring in a map from our GIS to visualize the data:"
   ]
  },
  {
   "cell_type": "code",
   "execution_count": 17,
   "metadata": {},
   "outputs": [
    {
     "data": {
      "application/vnd.jupyter.widget-view+json": {
       "model_id": "b12c6559b4774e6dbcaa95971f8bdb95",
       "version_major": 2,
       "version_minor": 0
      },
      "text/plain": [
       "MapView(layout=Layout(height='400px', width='100%'), zoom=7.0)"
      ]
     },
     "metadata": {},
     "output_type": "display_data"
    },
    {
     "data": {
      "text/html": [
       "<div class=\"map-static-img-preview-5aa67aa6-bdb6-4dea-bdf9-3d1e5cce47c3\"><img src=\"\"></img></div>"
      ],
      "text/plain": [
       "<IPython.core.display.HTML object>"
      ]
     },
     "metadata": {},
     "output_type": "display_data"
    }
   ],
   "source": [
    "map = gis.map(\"Tamil Nadu\", zoomlevel=7)\n",
    "map"
   ]
  },
  {
   "cell_type": "markdown",
   "metadata": {},
   "source": [
    "We can import any pandas data frame, with an address field, as a layer in our GIS. We then add this layer to our map to see the locations of the weather stations from which the rainfall data was collected:"
   ]
  },
  {
   "cell_type": "code",
   "execution_count": 10,
   "metadata": {},
   "outputs": [
    {
     "name": "stderr",
     "output_type": "stream",
     "text": [
      "Generate Features error: Server tool execution failed : ERROR 001508: Request to geocode service failed (made as part of generate or publish). Failed to execute (Generate Features for Portal). Failed. Failed to execute (Generate Features for Portal). Failed.\n"
     ]
    },
    {
     "ename": "RuntimeError",
     "evalue": "Generate Features error: Server tool execution failed : ERROR 001508: Request to geocode service failed (made as part of generate or publish). Failed to execute (Generate Features for Portal). Failed. Failed to execute (Generate Features for Portal). Failed.\n(Error Code: 0)",
     "output_type": "error",
     "traceback": [
      "\u001b[0;31m---------------------------------------------------------------------------\u001b[0m",
      "\u001b[0;31mRuntimeError\u001b[0m                              Traceback (most recent call last)",
      "\u001b[0;32m<ipython-input-10-7da9aa64f751>\u001b[0m in \u001b[0;36m<module>\u001b[0;34m()\u001b[0m\n\u001b[1;32m      1\u001b[0m \u001b[0;31m# Create an arcgis.features.FeatureCollection object by importing the pandas dataframe with an address field\u001b[0m\u001b[0;34m\u001b[0m\u001b[0;34m\u001b[0m\u001b[0m\n\u001b[0;32m----> 2\u001b[0;31m \u001b[0mrainfall\u001b[0m \u001b[0;34m=\u001b[0m \u001b[0mgis\u001b[0m\u001b[0;34m.\u001b[0m\u001b[0mcontent\u001b[0m\u001b[0;34m.\u001b[0m\u001b[0mimport_data\u001b[0m\u001b[0;34m(\u001b[0m\u001b[0mdf\u001b[0m\u001b[0;34m,\u001b[0m \u001b[0;34m{\u001b[0m\u001b[0;34m\"Address\"\u001b[0m \u001b[0;34m:\u001b[0m \u001b[0;34m\"LOCATION\"\u001b[0m\u001b[0;34m}\u001b[0m\u001b[0;34m)\u001b[0m\u001b[0;34m\u001b[0m\u001b[0m\n\u001b[0m",
      "\u001b[0;32m~/Documents/GitHub/geosaurus/src/arcgis/gis/__init__.py\u001b[0m in \u001b[0;36mimport_data\u001b[0;34m(self, df, address_fields, **kwargs)\u001b[0m\n\u001b[1;32m   3723\u001b[0m             }\n\u001b[1;32m   3724\u001b[0m \u001b[0;34m\u001b[0m\u001b[0m\n\u001b[0;32m-> 3725\u001b[0;31m             \u001b[0mres\u001b[0m \u001b[0;34m=\u001b[0m \u001b[0mself\u001b[0m\u001b[0;34m.\u001b[0m\u001b[0m_portal\u001b[0m\u001b[0;34m.\u001b[0m\u001b[0mcon\u001b[0m\u001b[0;34m.\u001b[0m\u001b[0mpost\u001b[0m\u001b[0;34m(\u001b[0m\u001b[0mpath\u001b[0m\u001b[0;34m,\u001b[0m \u001b[0mpostdata\u001b[0m\u001b[0;34m)\u001b[0m\u001b[0;31m#, use_ordered_dict=True) - OrderedDict >36< PropertyMap\u001b[0m\u001b[0;34m\u001b[0m\u001b[0m\n\u001b[0m\u001b[1;32m   3726\u001b[0m \u001b[0;34m\u001b[0m\u001b[0m\n\u001b[1;32m   3727\u001b[0m             \u001b[0mfc\u001b[0m \u001b[0;34m=\u001b[0m \u001b[0mFeatureCollection\u001b[0m\u001b[0;34m(\u001b[0m\u001b[0mres\u001b[0m\u001b[0;34m[\u001b[0m\u001b[0;34m'featureCollection'\u001b[0m\u001b[0;34m]\u001b[0m\u001b[0;34m[\u001b[0m\u001b[0;34m'layers'\u001b[0m\u001b[0;34m]\u001b[0m\u001b[0;34m[\u001b[0m\u001b[0;36m0\u001b[0m\u001b[0;34m]\u001b[0m\u001b[0;34m)\u001b[0m\u001b[0;34m\u001b[0m\u001b[0m\n",
      "\u001b[0;32m~/Documents/GitHub/geosaurus/src/arcgis/_impl/connection.py\u001b[0m in \u001b[0;36mpost\u001b[0;34m(self, path, postdata, files, ssl, compress, is_retry, use_ordered_dict, add_token, verify_cert, token, try_json, out_folder, file_name, force_bytes, add_headers)\u001b[0m\n\u001b[1;32m   1157\u001b[0m                                          verify_cert=verify_cert, is_retry=True)\n\u001b[1;32m   1158\u001b[0m \u001b[0;34m\u001b[0m\u001b[0m\n\u001b[0;32m-> 1159\u001b[0;31m                 \u001b[0mself\u001b[0m\u001b[0;34m.\u001b[0m\u001b[0m_handle_json_error\u001b[0m\u001b[0;34m(\u001b[0m\u001b[0mresp_json\u001b[0m\u001b[0;34m[\u001b[0m\u001b[0;34m'error'\u001b[0m\u001b[0;34m]\u001b[0m\u001b[0;34m,\u001b[0m \u001b[0merrorcode\u001b[0m\u001b[0;34m)\u001b[0m\u001b[0;34m\u001b[0m\u001b[0m\n\u001b[0m\u001b[1;32m   1160\u001b[0m                 \u001b[0;32mreturn\u001b[0m \u001b[0;32mNone\u001b[0m\u001b[0;34m\u001b[0m\u001b[0m\n\u001b[1;32m   1161\u001b[0m \u001b[0;34m\u001b[0m\u001b[0m\n",
      "\u001b[0;32m~/Documents/GitHub/geosaurus/src/arcgis/_impl/connection.py\u001b[0m in \u001b[0;36m_handle_json_error\u001b[0;34m(self, error, errorcode)\u001b[0m\n\u001b[1;32m   1178\u001b[0m \u001b[0;34m\u001b[0m\u001b[0m\n\u001b[1;32m   1179\u001b[0m         \u001b[0merrormessage\u001b[0m \u001b[0;34m=\u001b[0m \u001b[0merrormessage\u001b[0m \u001b[0;34m+\u001b[0m \u001b[0;34m\"\\n(Error Code: \"\u001b[0m \u001b[0;34m+\u001b[0m \u001b[0mstr\u001b[0m\u001b[0;34m(\u001b[0m\u001b[0merrorcode\u001b[0m\u001b[0;34m)\u001b[0m \u001b[0;34m+\u001b[0m\u001b[0;34m\")\"\u001b[0m\u001b[0;34m\u001b[0m\u001b[0m\n\u001b[0;32m-> 1180\u001b[0;31m         \u001b[0;32mraise\u001b[0m \u001b[0mRuntimeError\u001b[0m\u001b[0;34m(\u001b[0m\u001b[0merrormessage\u001b[0m\u001b[0;34m)\u001b[0m\u001b[0;34m\u001b[0m\u001b[0m\n\u001b[0m\u001b[1;32m   1181\u001b[0m \u001b[0;34m\u001b[0m\u001b[0m\n\u001b[1;32m   1182\u001b[0m \u001b[0;32mclass\u001b[0m \u001b[0m_StrictURLopener\u001b[0m\u001b[0;34m(\u001b[0m\u001b[0mrequest\u001b[0m\u001b[0;34m.\u001b[0m\u001b[0mFancyURLopener\u001b[0m\u001b[0;34m)\u001b[0m\u001b[0;34m:\u001b[0m\u001b[0;34m\u001b[0m\u001b[0m\n",
      "\u001b[0;31mRuntimeError\u001b[0m: Generate Features error: Server tool execution failed : ERROR 001508: Request to geocode service failed (made as part of generate or publish). Failed to execute (Generate Features for Portal). Failed. Failed to execute (Generate Features for Portal). Failed.\n(Error Code: 0)"
     ]
    }
   ],
   "source": [
    "# Create an arcgis.features.FeatureCollection object by importing the pandas dataframe with an address field\n",
    "rainfall = gis.content.import_data(df, {\"Address\" : \"LOCATION\"})"
   ]
  }
 ],
 "metadata": {
  "anaconda-cloud": {},
  "kernelspec": {
   "display_name": "Python 3",
   "language": "python",
   "name": "python3"
  },
  "language_info": {
   "codemirror_mode": {
    "name": "ipython",
    "version": 3
   },
   "file_extension": ".py",
   "mimetype": "text/x-python",
   "name": "python",
   "nbconvert_exporter": "python",
   "pygments_lexer": "ipython3",
   "version": "3.6.5"
  },
  "toc": {
   "base_numbering": 1,
   "nav_menu": {},
   "number_sections": true,
   "sideBar": true,
   "skip_h1_title": false,
   "title_cell": "Table of Contents",
   "title_sidebar": "Contents",
   "toc_cell": false,
   "toc_position": {},
   "toc_section_display": true,
   "toc_window_display": false
  }
 },
 "nbformat": 4,
 "nbformat_minor": 1
}
